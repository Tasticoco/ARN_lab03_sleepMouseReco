{
 "cells": [
  {
   "cell_type": "markdown",
   "id": "63e198db610745b8",
   "metadata": {
    "collapsed": false
   },
   "source": [
    "# Start of the lab 03\n",
    "#### By Haeffner Edwin and Junod Arthur\n",
    "\n",
    "## Concatenation of the two dataframes"
   ]
  },
  {
   "cell_type": "code",
   "execution_count": 43,
   "id": "initial_id",
   "metadata": {
    "ExecuteTime": {
     "end_time": "2024-03-15T15:18:41.423262Z",
     "start_time": "2024-03-15T15:18:39.561771Z"
    }
   },
   "outputs": [
    {
     "data": {
      "text/plain": "      state  amplitude_around_1_Hertz  amplitude_around_2_Hertz  \\\n0         n                  0.000009                  0.000014   \n1         n                  0.000010                  0.000010   \n2         n                  0.000011                  0.000077   \n3         w                  0.000003                  0.000031   \n4         w                  0.000010                  0.000011   \n...     ...                       ...                       ...   \n20600     w                  0.000025                  0.000007   \n20601     w                  0.000017                  0.000038   \n20602     w                  0.000016                  0.000028   \n20603     w                  0.000013                  0.000014   \n20604     w                  0.000004                  0.000006   \n\n       amplitude_around_3_Hertz  amplitude_around_4_Hertz  \\\n0                      0.000013                  0.000014   \n1                      0.000011                  0.000015   \n2                      0.000034                  0.000019   \n3                      0.000044                  0.000016   \n4                      0.000012                  0.000017   \n...                         ...                       ...   \n20600                  0.000007                  0.000003   \n20601                  0.000015                  0.000011   \n20602                  0.000031                  0.000011   \n20603                  0.000020                  0.000018   \n20604                  0.000011                  0.000025   \n\n       amplitude_around_5_Hertz  amplitude_around_6_Hertz  \\\n0                      0.000023                  0.000009   \n1                      0.000022                  0.000017   \n2                      0.000013                  0.000006   \n3                      0.000007                  0.000006   \n4                      0.000020                  0.000018   \n...                         ...                       ...   \n20600                  0.000005                  0.000002   \n20601                  0.000019                  0.000006   \n20602                  0.000019                  0.000001   \n20603                  0.000007                  0.000013   \n20604                  0.000040                  0.000007   \n\n       amplitude_around_7_Hertz  amplitude_around_8_Hertz  \\\n0                      0.000019                  0.000011   \n1                      0.000027                  0.000011   \n2                      0.000010                  0.000004   \n3                      0.000005                  0.000007   \n4                      0.000014                  0.000025   \n...                         ...                       ...   \n20600                  0.000005                  0.000010   \n20601                  0.000010                  0.000012   \n20602                  0.000015                  0.000002   \n20603                  0.000009                  0.000018   \n20604                  0.000005                  0.000021   \n\n       amplitude_around_9_Hertz  ...  amplitude_around_16_Hertz  \\\n0                      0.000016  ...               1.121431e-06   \n1                      0.000011  ...               1.214325e-06   \n2                      0.000006  ...               2.251707e-06   \n3                      0.000006  ...               2.197342e-06   \n4                      0.000018  ...               3.330912e-06   \n...                         ...  ...                        ...   \n20600                  0.000013  ...               7.605994e-07   \n20601                  0.000009  ...               4.660933e-07   \n20602                  0.000007  ...               9.727383e-07   \n20603                  0.000005  ...               7.172008e-07   \n20604                  0.000011  ...               1.841960e-06   \n\n       amplitude_around_17_Hertz  amplitude_around_18_Hertz  \\\n0                   9.572615e-07               7.912338e-07   \n1                   2.456797e-06               2.102875e-06   \n2                   3.322518e-06               1.112426e-06   \n3                   8.276670e-07               6.019235e-07   \n4                   3.003597e-06               3.560957e-06   \n...                          ...                        ...   \n20600               5.857975e-07               2.008976e-06   \n20601               4.797065e-07               1.377159e-06   \n20602               5.698932e-07               8.794702e-07   \n20603               1.828871e-06               5.327440e-07   \n20604               2.496559e-06               8.287230e-07   \n\n       amplitude_around_19_Hertz  amplitude_around_20_Hertz  \\\n0                   2.075210e-06               2.125421e-06   \n1                   3.754975e-07               1.144381e-06   \n2                   8.238182e-07               8.392117e-07   \n3                   3.639088e-07               3.230235e-07   \n4                   1.856221e-06               8.180798e-07   \n...                          ...                        ...   \n20600               1.047500e-06               8.361965e-07   \n20601               1.549855e-06               2.014634e-06   \n20602               9.412227e-07               7.479130e-07   \n20603               5.149679e-07               6.310218e-07   \n20604               1.240961e-06               6.318763e-07   \n\n       amplitude_around_21_Hertz  amplitude_around_22_Hertz  \\\n0                   9.183682e-07               1.442768e-06   \n1                   1.869306e-06               9.546215e-07   \n2                   6.979253e-07               4.631708e-07   \n3                   4.536860e-07               5.793950e-07   \n4                   1.657310e-06               2.038410e-06   \n...                          ...                        ...   \n20600               1.187530e-06               1.362517e-06   \n20601               1.006481e-06               1.255027e-06   \n20602               1.173636e-07               8.319340e-07   \n20603               4.164332e-07               3.309523e-07   \n20604               4.139715e-07               1.134125e-06   \n\n       amplitude_around_23_Hertz  amplitude_around_24_Hertz  \\\n0                   1.315617e-06               1.882535e-06   \n1                   8.958666e-07               2.865039e-07   \n2                   3.179654e-07               3.833318e-07   \n3                   2.854656e-07               9.187695e-07   \n4                   9.678699e-07               6.374025e-07   \n...                          ...                        ...   \n20600               1.155722e-06               4.674335e-07   \n20601               7.684788e-07               1.131635e-06   \n20602               1.222192e-07               1.277335e-07   \n20603               8.170078e-07               6.630207e-07   \n20604               3.685242e-06               7.301847e-07   \n\n       amplitude_around_25_Hertz  \n0                   3.555321e-07  \n1                   8.280935e-07  \n2                   2.466324e-07  \n3                   5.579241e-07  \n4                   8.643028e-07  \n...                          ...  \n20600               4.710592e-07  \n20601               1.080890e-06  \n20602               2.256663e-07  \n20603               9.615590e-07  \n20604               1.334593e-06  \n\n[40863 rows x 26 columns]",
      "text/html": "<div>\n<style scoped>\n    .dataframe tbody tr th:only-of-type {\n        vertical-align: middle;\n    }\n\n    .dataframe tbody tr th {\n        vertical-align: top;\n    }\n\n    .dataframe thead th {\n        text-align: right;\n    }\n</style>\n<table border=\"1\" class=\"dataframe\">\n  <thead>\n    <tr style=\"text-align: right;\">\n      <th></th>\n      <th>state</th>\n      <th>amplitude_around_1_Hertz</th>\n      <th>amplitude_around_2_Hertz</th>\n      <th>amplitude_around_3_Hertz</th>\n      <th>amplitude_around_4_Hertz</th>\n      <th>amplitude_around_5_Hertz</th>\n      <th>amplitude_around_6_Hertz</th>\n      <th>amplitude_around_7_Hertz</th>\n      <th>amplitude_around_8_Hertz</th>\n      <th>amplitude_around_9_Hertz</th>\n      <th>...</th>\n      <th>amplitude_around_16_Hertz</th>\n      <th>amplitude_around_17_Hertz</th>\n      <th>amplitude_around_18_Hertz</th>\n      <th>amplitude_around_19_Hertz</th>\n      <th>amplitude_around_20_Hertz</th>\n      <th>amplitude_around_21_Hertz</th>\n      <th>amplitude_around_22_Hertz</th>\n      <th>amplitude_around_23_Hertz</th>\n      <th>amplitude_around_24_Hertz</th>\n      <th>amplitude_around_25_Hertz</th>\n    </tr>\n  </thead>\n  <tbody>\n    <tr>\n      <th>0</th>\n      <td>n</td>\n      <td>0.000009</td>\n      <td>0.000014</td>\n      <td>0.000013</td>\n      <td>0.000014</td>\n      <td>0.000023</td>\n      <td>0.000009</td>\n      <td>0.000019</td>\n      <td>0.000011</td>\n      <td>0.000016</td>\n      <td>...</td>\n      <td>1.121431e-06</td>\n      <td>9.572615e-07</td>\n      <td>7.912338e-07</td>\n      <td>2.075210e-06</td>\n      <td>2.125421e-06</td>\n      <td>9.183682e-07</td>\n      <td>1.442768e-06</td>\n      <td>1.315617e-06</td>\n      <td>1.882535e-06</td>\n      <td>3.555321e-07</td>\n    </tr>\n    <tr>\n      <th>1</th>\n      <td>n</td>\n      <td>0.000010</td>\n      <td>0.000010</td>\n      <td>0.000011</td>\n      <td>0.000015</td>\n      <td>0.000022</td>\n      <td>0.000017</td>\n      <td>0.000027</td>\n      <td>0.000011</td>\n      <td>0.000011</td>\n      <td>...</td>\n      <td>1.214325e-06</td>\n      <td>2.456797e-06</td>\n      <td>2.102875e-06</td>\n      <td>3.754975e-07</td>\n      <td>1.144381e-06</td>\n      <td>1.869306e-06</td>\n      <td>9.546215e-07</td>\n      <td>8.958666e-07</td>\n      <td>2.865039e-07</td>\n      <td>8.280935e-07</td>\n    </tr>\n    <tr>\n      <th>2</th>\n      <td>n</td>\n      <td>0.000011</td>\n      <td>0.000077</td>\n      <td>0.000034</td>\n      <td>0.000019</td>\n      <td>0.000013</td>\n      <td>0.000006</td>\n      <td>0.000010</td>\n      <td>0.000004</td>\n      <td>0.000006</td>\n      <td>...</td>\n      <td>2.251707e-06</td>\n      <td>3.322518e-06</td>\n      <td>1.112426e-06</td>\n      <td>8.238182e-07</td>\n      <td>8.392117e-07</td>\n      <td>6.979253e-07</td>\n      <td>4.631708e-07</td>\n      <td>3.179654e-07</td>\n      <td>3.833318e-07</td>\n      <td>2.466324e-07</td>\n    </tr>\n    <tr>\n      <th>3</th>\n      <td>w</td>\n      <td>0.000003</td>\n      <td>0.000031</td>\n      <td>0.000044</td>\n      <td>0.000016</td>\n      <td>0.000007</td>\n      <td>0.000006</td>\n      <td>0.000005</td>\n      <td>0.000007</td>\n      <td>0.000006</td>\n      <td>...</td>\n      <td>2.197342e-06</td>\n      <td>8.276670e-07</td>\n      <td>6.019235e-07</td>\n      <td>3.639088e-07</td>\n      <td>3.230235e-07</td>\n      <td>4.536860e-07</td>\n      <td>5.793950e-07</td>\n      <td>2.854656e-07</td>\n      <td>9.187695e-07</td>\n      <td>5.579241e-07</td>\n    </tr>\n    <tr>\n      <th>4</th>\n      <td>w</td>\n      <td>0.000010</td>\n      <td>0.000011</td>\n      <td>0.000012</td>\n      <td>0.000017</td>\n      <td>0.000020</td>\n      <td>0.000018</td>\n      <td>0.000014</td>\n      <td>0.000025</td>\n      <td>0.000018</td>\n      <td>...</td>\n      <td>3.330912e-06</td>\n      <td>3.003597e-06</td>\n      <td>3.560957e-06</td>\n      <td>1.856221e-06</td>\n      <td>8.180798e-07</td>\n      <td>1.657310e-06</td>\n      <td>2.038410e-06</td>\n      <td>9.678699e-07</td>\n      <td>6.374025e-07</td>\n      <td>8.643028e-07</td>\n    </tr>\n    <tr>\n      <th>...</th>\n      <td>...</td>\n      <td>...</td>\n      <td>...</td>\n      <td>...</td>\n      <td>...</td>\n      <td>...</td>\n      <td>...</td>\n      <td>...</td>\n      <td>...</td>\n      <td>...</td>\n      <td>...</td>\n      <td>...</td>\n      <td>...</td>\n      <td>...</td>\n      <td>...</td>\n      <td>...</td>\n      <td>...</td>\n      <td>...</td>\n      <td>...</td>\n      <td>...</td>\n      <td>...</td>\n    </tr>\n    <tr>\n      <th>20600</th>\n      <td>w</td>\n      <td>0.000025</td>\n      <td>0.000007</td>\n      <td>0.000007</td>\n      <td>0.000003</td>\n      <td>0.000005</td>\n      <td>0.000002</td>\n      <td>0.000005</td>\n      <td>0.000010</td>\n      <td>0.000013</td>\n      <td>...</td>\n      <td>7.605994e-07</td>\n      <td>5.857975e-07</td>\n      <td>2.008976e-06</td>\n      <td>1.047500e-06</td>\n      <td>8.361965e-07</td>\n      <td>1.187530e-06</td>\n      <td>1.362517e-06</td>\n      <td>1.155722e-06</td>\n      <td>4.674335e-07</td>\n      <td>4.710592e-07</td>\n    </tr>\n    <tr>\n      <th>20601</th>\n      <td>w</td>\n      <td>0.000017</td>\n      <td>0.000038</td>\n      <td>0.000015</td>\n      <td>0.000011</td>\n      <td>0.000019</td>\n      <td>0.000006</td>\n      <td>0.000010</td>\n      <td>0.000012</td>\n      <td>0.000009</td>\n      <td>...</td>\n      <td>4.660933e-07</td>\n      <td>4.797065e-07</td>\n      <td>1.377159e-06</td>\n      <td>1.549855e-06</td>\n      <td>2.014634e-06</td>\n      <td>1.006481e-06</td>\n      <td>1.255027e-06</td>\n      <td>7.684788e-07</td>\n      <td>1.131635e-06</td>\n      <td>1.080890e-06</td>\n    </tr>\n    <tr>\n      <th>20602</th>\n      <td>w</td>\n      <td>0.000016</td>\n      <td>0.000028</td>\n      <td>0.000031</td>\n      <td>0.000011</td>\n      <td>0.000019</td>\n      <td>0.000001</td>\n      <td>0.000015</td>\n      <td>0.000002</td>\n      <td>0.000007</td>\n      <td>...</td>\n      <td>9.727383e-07</td>\n      <td>5.698932e-07</td>\n      <td>8.794702e-07</td>\n      <td>9.412227e-07</td>\n      <td>7.479130e-07</td>\n      <td>1.173636e-07</td>\n      <td>8.319340e-07</td>\n      <td>1.222192e-07</td>\n      <td>1.277335e-07</td>\n      <td>2.256663e-07</td>\n    </tr>\n    <tr>\n      <th>20603</th>\n      <td>w</td>\n      <td>0.000013</td>\n      <td>0.000014</td>\n      <td>0.000020</td>\n      <td>0.000018</td>\n      <td>0.000007</td>\n      <td>0.000013</td>\n      <td>0.000009</td>\n      <td>0.000018</td>\n      <td>0.000005</td>\n      <td>...</td>\n      <td>7.172008e-07</td>\n      <td>1.828871e-06</td>\n      <td>5.327440e-07</td>\n      <td>5.149679e-07</td>\n      <td>6.310218e-07</td>\n      <td>4.164332e-07</td>\n      <td>3.309523e-07</td>\n      <td>8.170078e-07</td>\n      <td>6.630207e-07</td>\n      <td>9.615590e-07</td>\n    </tr>\n    <tr>\n      <th>20604</th>\n      <td>w</td>\n      <td>0.000004</td>\n      <td>0.000006</td>\n      <td>0.000011</td>\n      <td>0.000025</td>\n      <td>0.000040</td>\n      <td>0.000007</td>\n      <td>0.000005</td>\n      <td>0.000021</td>\n      <td>0.000011</td>\n      <td>...</td>\n      <td>1.841960e-06</td>\n      <td>2.496559e-06</td>\n      <td>8.287230e-07</td>\n      <td>1.240961e-06</td>\n      <td>6.318763e-07</td>\n      <td>4.139715e-07</td>\n      <td>1.134125e-06</td>\n      <td>3.685242e-06</td>\n      <td>7.301847e-07</td>\n      <td>1.334593e-06</td>\n    </tr>\n  </tbody>\n</table>\n<p>40863 rows × 26 columns</p>\n</div>"
     },
     "execution_count": 43,
     "metadata": {},
     "output_type": "execute_result"
    }
   ],
   "source": [
    "import pandas as pd\n",
    "import numpy as np\n",
    "import matplotlib.pyplot as pl\n",
    "\n",
    "mice_eeg1 = pd.read_csv('./pw3_data/EEG_mouse_data_1.csv')\n",
    "mice_eeg2 = pd.read_csv('./pw3_data/EEG_mouse_data_2.csv')\n",
    "\n",
    "mice_eeg = pd.concat([mice_eeg1, mice_eeg2], axis=0)\n",
    "\n",
    "# Select the first 25 amplitudes as they are the most interesting\n",
    "mice_eeg = mice_eeg.iloc[:, :26]\n",
    "mice_eeg"
   ]
  },
  {
   "cell_type": "markdown",
   "source": [
    "## KFold grouping"
   ],
   "metadata": {
    "collapsed": false
   },
   "id": "8548b379b521048a"
  },
  {
   "cell_type": "code",
   "outputs": [
    {
     "name": "stderr",
     "output_type": "stream",
     "text": [
      "2024-03-15 16:56:04.955508: I tensorflow/core/common_runtime/process_util.cc:146] Creating new thread pool with default inter op setting: 2. Tune using inter_op_parallelism_threads for best performance.\n"
     ]
    },
    {
     "name": "stdout",
     "output_type": "stream",
     "text": [
      "Epoch 1/10\n"
     ]
    },
    {
     "name": "stderr",
     "output_type": "stream",
     "text": [
      "2024-03-15 16:56:05.819649: W tensorflow/core/framework/op_kernel.cc:1807] OP_REQUIRES failed at cast_op.cc:121 : UNIMPLEMENTED: Cast string to float is not supported\n"
     ]
    },
    {
     "ename": "UnimplementedError",
     "evalue": "Graph execution error:\n\nDetected at node 'mean_squared_error/Cast' defined at (most recent call last):\n    File \"<frozen runpy>\", line 198, in _run_module_as_main\n    File \"<frozen runpy>\", line 88, in _run_code\n    File \"/home/hiroyko/anaconda3/envs/pythonProject1/lib/python3.11/site-packages/ipykernel_launcher.py\", line 17, in <module>\n      app.launch_new_instance()\n    File \"/home/hiroyko/anaconda3/envs/pythonProject1/lib/python3.11/site-packages/traitlets/config/application.py\", line 992, in launch_instance\n      app.start()\n    File \"/home/hiroyko/anaconda3/envs/pythonProject1/lib/python3.11/site-packages/ipykernel/kernelapp.py\", line 701, in start\n      self.io_loop.start()\n    File \"/home/hiroyko/anaconda3/envs/pythonProject1/lib/python3.11/site-packages/tornado/platform/asyncio.py\", line 195, in start\n      self.asyncio_loop.run_forever()\n    File \"/home/hiroyko/anaconda3/envs/pythonProject1/lib/python3.11/asyncio/base_events.py\", line 608, in run_forever\n      if self._stopping:\n    File \"/home/hiroyko/anaconda3/envs/pythonProject1/lib/python3.11/asyncio/base_events.py\", line 1936, in _run_once\n      self._coroutine_origin_tracking_saved_depth)\n    File \"/home/hiroyko/anaconda3/envs/pythonProject1/lib/python3.11/asyncio/events.py\", line 84, in _run\n      cb = format_helpers._format_callback_source(\n    File \"/home/hiroyko/anaconda3/envs/pythonProject1/lib/python3.11/site-packages/ipykernel/kernelbase.py\", line 534, in dispatch_queue\n      await self.process_one()\n    File \"/home/hiroyko/anaconda3/envs/pythonProject1/lib/python3.11/site-packages/ipykernel/kernelbase.py\", line 523, in process_one\n      await dispatch(*args)\n    File \"/home/hiroyko/anaconda3/envs/pythonProject1/lib/python3.11/site-packages/ipykernel/kernelbase.py\", line 429, in dispatch_shell\n      await result\n    File \"/home/hiroyko/anaconda3/envs/pythonProject1/lib/python3.11/site-packages/ipykernel/kernelbase.py\", line 767, in execute_request\n      reply_content = await reply_content\n    File \"/home/hiroyko/anaconda3/envs/pythonProject1/lib/python3.11/site-packages/ipykernel/ipkernel.py\", line 429, in do_execute\n      res = shell.run_cell(\n    File \"/home/hiroyko/anaconda3/envs/pythonProject1/lib/python3.11/site-packages/ipykernel/zmqshell.py\", line 549, in run_cell\n      return super().run_cell(*args, **kwargs)\n    File \"/home/hiroyko/anaconda3/envs/pythonProject1/lib/python3.11/site-packages/IPython/core/interactiveshell.py\", line 3051, in run_cell\n      result = self._run_cell(\n    File \"/home/hiroyko/anaconda3/envs/pythonProject1/lib/python3.11/site-packages/IPython/core/interactiveshell.py\", line 3106, in _run_cell\n      result = runner(coro)\n    File \"/home/hiroyko/anaconda3/envs/pythonProject1/lib/python3.11/site-packages/IPython/core/async_helpers.py\", line 129, in _pseudo_sync_runner\n      coro.send(None)\n    File \"/home/hiroyko/anaconda3/envs/pythonProject1/lib/python3.11/site-packages/IPython/core/interactiveshell.py\", line 3311, in run_cell_async\n      has_raised = await self.run_ast_nodes(code_ast.body, cell_name,\n    File \"/home/hiroyko/anaconda3/envs/pythonProject1/lib/python3.11/site-packages/IPython/core/interactiveshell.py\", line 3493, in run_ast_nodes\n      if await self.run_code(code, result, async_=asy):\n    File \"/home/hiroyko/anaconda3/envs/pythonProject1/lib/python3.11/site-packages/IPython/core/interactiveshell.py\", line 3553, in run_code\n      exec(code_obj, self.user_global_ns, self.user_ns)\n    File \"/tmp/ipykernel_4130/2138103753.py\", line 39, in <module>\n      history = model.fit(train_data[train_numeric_columns], train_data[train_data.columns[0]], epochs=10, validation_data=(test_data[test_data.columns[1:]], test_data[test_data.columns[0]]))\n    File \"/home/hiroyko/anaconda3/envs/pythonProject1/lib/python3.11/site-packages/keras/utils/traceback_utils.py\", line 65, in error_handler\n      return fn(*args, **kwargs)\n    File \"/home/hiroyko/anaconda3/envs/pythonProject1/lib/python3.11/site-packages/keras/engine/training.py\", line 1685, in fit\n      tmp_logs = self.train_function(iterator)\n    File \"/home/hiroyko/anaconda3/envs/pythonProject1/lib/python3.11/site-packages/keras/engine/training.py\", line 1284, in train_function\n      return step_function(self, iterator)\n    File \"/home/hiroyko/anaconda3/envs/pythonProject1/lib/python3.11/site-packages/keras/engine/training.py\", line 1268, in step_function\n      outputs = model.distribute_strategy.run(run_step, args=(data,))\n    File \"/home/hiroyko/anaconda3/envs/pythonProject1/lib/python3.11/site-packages/keras/engine/training.py\", line 1249, in run_step\n      outputs = model.train_step(data)\n    File \"/home/hiroyko/anaconda3/envs/pythonProject1/lib/python3.11/site-packages/keras/engine/training.py\", line 1051, in train_step\n      loss = self.compute_loss(x, y, y_pred, sample_weight)\n    File \"/home/hiroyko/anaconda3/envs/pythonProject1/lib/python3.11/site-packages/keras/engine/training.py\", line 1109, in compute_loss\n      return self.compiled_loss(\n    File \"/home/hiroyko/anaconda3/envs/pythonProject1/lib/python3.11/site-packages/keras/engine/compile_utils.py\", line 265, in __call__\n      loss_value = loss_obj(y_t, y_p, sample_weight=sw)\n    File \"/home/hiroyko/anaconda3/envs/pythonProject1/lib/python3.11/site-packages/keras/losses.py\", line 142, in __call__\n      losses = call_fn(y_true, y_pred)\n    File \"/home/hiroyko/anaconda3/envs/pythonProject1/lib/python3.11/site-packages/keras/losses.py\", line 268, in call\n      return ag_fn(y_true, y_pred, **self._fn_kwargs)\n    File \"/home/hiroyko/anaconda3/envs/pythonProject1/lib/python3.11/site-packages/keras/losses.py\", line 1469, in mean_squared_error\n      y_true = tf.cast(y_true, y_pred.dtype)\nNode: 'mean_squared_error/Cast'\nCast string to float is not supported\n\t [[{{node mean_squared_error/Cast}}]] [Op:__inference_train_function_746]",
     "output_type": "error",
     "traceback": [
      "\u001B[0;31m---------------------------------------------------------------------------\u001B[0m",
      "\u001B[0;31mUnimplementedError\u001B[0m                        Traceback (most recent call last)",
      "Cell \u001B[0;32mIn[53], line 39\u001B[0m\n\u001B[1;32m     36\u001B[0m model\u001B[38;5;241m.\u001B[39mcompile(optimizer\u001B[38;5;241m=\u001B[39m\u001B[38;5;124m'\u001B[39m\u001B[38;5;124madam\u001B[39m\u001B[38;5;124m'\u001B[39m, loss\u001B[38;5;241m=\u001B[39m\u001B[38;5;124m'\u001B[39m\u001B[38;5;124mmean_squared_error\u001B[39m\u001B[38;5;124m'\u001B[39m)\n\u001B[1;32m     38\u001B[0m \u001B[38;5;66;03m# Train the model and store the training history\u001B[39;00m\n\u001B[0;32m---> 39\u001B[0m history \u001B[38;5;241m=\u001B[39m model\u001B[38;5;241m.\u001B[39mfit(train_data[train_numeric_columns], train_data[train_data\u001B[38;5;241m.\u001B[39mcolumns[\u001B[38;5;241m0\u001B[39m]], epochs\u001B[38;5;241m=\u001B[39m\u001B[38;5;241m10\u001B[39m, validation_data\u001B[38;5;241m=\u001B[39m(test_data[test_data\u001B[38;5;241m.\u001B[39mcolumns[\u001B[38;5;241m1\u001B[39m:]], test_data[test_data\u001B[38;5;241m.\u001B[39mcolumns[\u001B[38;5;241m0\u001B[39m]]))\n\u001B[1;32m     41\u001B[0m \u001B[38;5;66;03m# Append the training and validation losses to the respective lists\u001B[39;00m\n\u001B[1;32m     42\u001B[0m training_losses\u001B[38;5;241m.\u001B[39mextend(history\u001B[38;5;241m.\u001B[39mhistory[\u001B[38;5;124m'\u001B[39m\u001B[38;5;124mloss\u001B[39m\u001B[38;5;124m'\u001B[39m])\n",
      "File \u001B[0;32m~/anaconda3/envs/pythonProject1/lib/python3.11/site-packages/keras/utils/traceback_utils.py:70\u001B[0m, in \u001B[0;36mfilter_traceback.<locals>.error_handler\u001B[0;34m(*args, **kwargs)\u001B[0m\n\u001B[1;32m     67\u001B[0m     filtered_tb \u001B[38;5;241m=\u001B[39m _process_traceback_frames(e\u001B[38;5;241m.\u001B[39m__traceback__)\n\u001B[1;32m     68\u001B[0m     \u001B[38;5;66;03m# To get the full stack trace, call:\u001B[39;00m\n\u001B[1;32m     69\u001B[0m     \u001B[38;5;66;03m# `tf.debugging.disable_traceback_filtering()`\u001B[39;00m\n\u001B[0;32m---> 70\u001B[0m     \u001B[38;5;28;01mraise\u001B[39;00m e\u001B[38;5;241m.\u001B[39mwith_traceback(filtered_tb) \u001B[38;5;28;01mfrom\u001B[39;00m \u001B[38;5;28;01mNone\u001B[39;00m\n\u001B[1;32m     71\u001B[0m \u001B[38;5;28;01mfinally\u001B[39;00m:\n\u001B[1;32m     72\u001B[0m     \u001B[38;5;28;01mdel\u001B[39;00m filtered_tb\n",
      "File \u001B[0;32m~/anaconda3/envs/pythonProject1/lib/python3.11/site-packages/tensorflow/python/eager/execute.py:52\u001B[0m, in \u001B[0;36mquick_execute\u001B[0;34m(op_name, num_outputs, inputs, attrs, ctx, name)\u001B[0m\n\u001B[1;32m     50\u001B[0m \u001B[38;5;28;01mtry\u001B[39;00m:\n\u001B[1;32m     51\u001B[0m   ctx\u001B[38;5;241m.\u001B[39mensure_initialized()\n\u001B[0;32m---> 52\u001B[0m   tensors \u001B[38;5;241m=\u001B[39m pywrap_tfe\u001B[38;5;241m.\u001B[39mTFE_Py_Execute(ctx\u001B[38;5;241m.\u001B[39m_handle, device_name, op_name,\n\u001B[1;32m     53\u001B[0m                                       inputs, attrs, num_outputs)\n\u001B[1;32m     54\u001B[0m \u001B[38;5;28;01mexcept\u001B[39;00m core\u001B[38;5;241m.\u001B[39m_NotOkStatusException \u001B[38;5;28;01mas\u001B[39;00m e:\n\u001B[1;32m     55\u001B[0m   \u001B[38;5;28;01mif\u001B[39;00m name \u001B[38;5;129;01mis\u001B[39;00m \u001B[38;5;129;01mnot\u001B[39;00m \u001B[38;5;28;01mNone\u001B[39;00m:\n",
      "\u001B[0;31mUnimplementedError\u001B[0m: Graph execution error:\n\nDetected at node 'mean_squared_error/Cast' defined at (most recent call last):\n    File \"<frozen runpy>\", line 198, in _run_module_as_main\n    File \"<frozen runpy>\", line 88, in _run_code\n    File \"/home/hiroyko/anaconda3/envs/pythonProject1/lib/python3.11/site-packages/ipykernel_launcher.py\", line 17, in <module>\n      app.launch_new_instance()\n    File \"/home/hiroyko/anaconda3/envs/pythonProject1/lib/python3.11/site-packages/traitlets/config/application.py\", line 992, in launch_instance\n      app.start()\n    File \"/home/hiroyko/anaconda3/envs/pythonProject1/lib/python3.11/site-packages/ipykernel/kernelapp.py\", line 701, in start\n      self.io_loop.start()\n    File \"/home/hiroyko/anaconda3/envs/pythonProject1/lib/python3.11/site-packages/tornado/platform/asyncio.py\", line 195, in start\n      self.asyncio_loop.run_forever()\n    File \"/home/hiroyko/anaconda3/envs/pythonProject1/lib/python3.11/asyncio/base_events.py\", line 608, in run_forever\n      if self._stopping:\n    File \"/home/hiroyko/anaconda3/envs/pythonProject1/lib/python3.11/asyncio/base_events.py\", line 1936, in _run_once\n      self._coroutine_origin_tracking_saved_depth)\n    File \"/home/hiroyko/anaconda3/envs/pythonProject1/lib/python3.11/asyncio/events.py\", line 84, in _run\n      cb = format_helpers._format_callback_source(\n    File \"/home/hiroyko/anaconda3/envs/pythonProject1/lib/python3.11/site-packages/ipykernel/kernelbase.py\", line 534, in dispatch_queue\n      await self.process_one()\n    File \"/home/hiroyko/anaconda3/envs/pythonProject1/lib/python3.11/site-packages/ipykernel/kernelbase.py\", line 523, in process_one\n      await dispatch(*args)\n    File \"/home/hiroyko/anaconda3/envs/pythonProject1/lib/python3.11/site-packages/ipykernel/kernelbase.py\", line 429, in dispatch_shell\n      await result\n    File \"/home/hiroyko/anaconda3/envs/pythonProject1/lib/python3.11/site-packages/ipykernel/kernelbase.py\", line 767, in execute_request\n      reply_content = await reply_content\n    File \"/home/hiroyko/anaconda3/envs/pythonProject1/lib/python3.11/site-packages/ipykernel/ipkernel.py\", line 429, in do_execute\n      res = shell.run_cell(\n    File \"/home/hiroyko/anaconda3/envs/pythonProject1/lib/python3.11/site-packages/ipykernel/zmqshell.py\", line 549, in run_cell\n      return super().run_cell(*args, **kwargs)\n    File \"/home/hiroyko/anaconda3/envs/pythonProject1/lib/python3.11/site-packages/IPython/core/interactiveshell.py\", line 3051, in run_cell\n      result = self._run_cell(\n    File \"/home/hiroyko/anaconda3/envs/pythonProject1/lib/python3.11/site-packages/IPython/core/interactiveshell.py\", line 3106, in _run_cell\n      result = runner(coro)\n    File \"/home/hiroyko/anaconda3/envs/pythonProject1/lib/python3.11/site-packages/IPython/core/async_helpers.py\", line 129, in _pseudo_sync_runner\n      coro.send(None)\n    File \"/home/hiroyko/anaconda3/envs/pythonProject1/lib/python3.11/site-packages/IPython/core/interactiveshell.py\", line 3311, in run_cell_async\n      has_raised = await self.run_ast_nodes(code_ast.body, cell_name,\n    File \"/home/hiroyko/anaconda3/envs/pythonProject1/lib/python3.11/site-packages/IPython/core/interactiveshell.py\", line 3493, in run_ast_nodes\n      if await self.run_code(code, result, async_=asy):\n    File \"/home/hiroyko/anaconda3/envs/pythonProject1/lib/python3.11/site-packages/IPython/core/interactiveshell.py\", line 3553, in run_code\n      exec(code_obj, self.user_global_ns, self.user_ns)\n    File \"/tmp/ipykernel_4130/2138103753.py\", line 39, in <module>\n      history = model.fit(train_data[train_numeric_columns], train_data[train_data.columns[0]], epochs=10, validation_data=(test_data[test_data.columns[1:]], test_data[test_data.columns[0]]))\n    File \"/home/hiroyko/anaconda3/envs/pythonProject1/lib/python3.11/site-packages/keras/utils/traceback_utils.py\", line 65, in error_handler\n      return fn(*args, **kwargs)\n    File \"/home/hiroyko/anaconda3/envs/pythonProject1/lib/python3.11/site-packages/keras/engine/training.py\", line 1685, in fit\n      tmp_logs = self.train_function(iterator)\n    File \"/home/hiroyko/anaconda3/envs/pythonProject1/lib/python3.11/site-packages/keras/engine/training.py\", line 1284, in train_function\n      return step_function(self, iterator)\n    File \"/home/hiroyko/anaconda3/envs/pythonProject1/lib/python3.11/site-packages/keras/engine/training.py\", line 1268, in step_function\n      outputs = model.distribute_strategy.run(run_step, args=(data,))\n    File \"/home/hiroyko/anaconda3/envs/pythonProject1/lib/python3.11/site-packages/keras/engine/training.py\", line 1249, in run_step\n      outputs = model.train_step(data)\n    File \"/home/hiroyko/anaconda3/envs/pythonProject1/lib/python3.11/site-packages/keras/engine/training.py\", line 1051, in train_step\n      loss = self.compute_loss(x, y, y_pred, sample_weight)\n    File \"/home/hiroyko/anaconda3/envs/pythonProject1/lib/python3.11/site-packages/keras/engine/training.py\", line 1109, in compute_loss\n      return self.compiled_loss(\n    File \"/home/hiroyko/anaconda3/envs/pythonProject1/lib/python3.11/site-packages/keras/engine/compile_utils.py\", line 265, in __call__\n      loss_value = loss_obj(y_t, y_p, sample_weight=sw)\n    File \"/home/hiroyko/anaconda3/envs/pythonProject1/lib/python3.11/site-packages/keras/losses.py\", line 142, in __call__\n      losses = call_fn(y_true, y_pred)\n    File \"/home/hiroyko/anaconda3/envs/pythonProject1/lib/python3.11/site-packages/keras/losses.py\", line 268, in call\n      return ag_fn(y_true, y_pred, **self._fn_kwargs)\n    File \"/home/hiroyko/anaconda3/envs/pythonProject1/lib/python3.11/site-packages/keras/losses.py\", line 1469, in mean_squared_error\n      y_true = tf.cast(y_true, y_pred.dtype)\nNode: 'mean_squared_error/Cast'\nCast string to float is not supported\n\t [[{{node mean_squared_error/Cast}}]] [Op:__inference_train_function_746]"
     ]
    },
    {
     "data": {
      "text/plain": "<Figure size 640x480 with 0 Axes>"
     },
     "metadata": {},
     "output_type": "display_data"
    }
   ],
   "source": [
    "import keras\n",
    "from keras import layers\n",
    "from sklearn.model_selection import KFold\n",
    "from sklearn.preprocessing import StandardScaler\n",
    "\n",
    "output_data = []\n",
    "\n",
    "pl.clf()\n",
    "\n",
    "\n",
    "keras.utils.set_random_seed(123)\n",
    "kf = KFold(n_splits=3, shuffle=True)\n",
    "\n",
    "for i, (train_index, test_index) in enumerate(kf.split(mice_eeg)):\n",
    "    scaler = StandardScaler()\n",
    "    \n",
    "    # Select the training and test data\n",
    "    train_data = mice_eeg.iloc[train_index]\n",
    "    test_data = mice_eeg.iloc[test_index]\n",
    "    \n",
    "    train_numeric_columns = train_data.columns[1:]\n",
    "    \n",
    "    # Fit the scaler on the training data and transform both training and test data\n",
    "    train_numeric_values = scaler.fit_transform(train_data.loc[:, train_numeric_columns])\n",
    "    \n",
    "    # Convert the transformed data back to a DataFrame\n",
    "    train_data.loc[:, train_numeric_columns] = train_numeric_values\n",
    "    \n",
    "    # Now you can print the transformed train_data\n",
    "    print(train_data)\n",
    "    \n",
    "    # pl.figure(figsize=(4,4))\n",
    "    # \n",
    "    # # Plot train data\n",
    "    # pl.scatter(train_data[:,0], train_data[:,1], c=[(['b', 'r'])[int(d>0)] for d in output_data[train_index]], s=100)\n",
    "    # pl.scatter(test_data[:,0], test_data[:,1], c=[(['gray', 'gray'])[int(d>0)] for d in output_data[test_index]], s=100)\n",
    "    # pl.title(f'Split {i + 1}, validation fold in gray.')\n",
    "    # pl.show()"
   ],
   "metadata": {
    "collapsed": false,
    "ExecuteTime": {
     "end_time": "2024-03-15T15:56:05.921456Z",
     "start_time": "2024-03-15T15:56:04.870525Z"
    }
   },
   "id": "6e844f4172d5cb8c",
   "execution_count": 53
  },
  {
   "cell_type": "markdown",
   "id": "750dd333ce82650",
   "metadata": {
    "collapsed": false
   },
   "source": [
    "## Data normalization"
   ]
  },
  {
   "cell_type": "code",
   "execution_count": null,
   "id": "4da50e9c9552d2bb",
   "metadata": {
    "collapsed": false
   },
   "outputs": [],
   "source": [
    "from sklearn.preprocessing import StandardScaler\n",
    "\n",
    "scaler = StandardScaler()\n",
    "\n",
    "#Select all columns but the first one\n",
    "numeric_columns = mice_eeg.columns[1:]\n",
    "#Normalize the data\n",
    "mice_eeg.loc[:, numeric_columns] = scaler.fit_transform(mice_eeg.loc[:, numeric_columns])\n",
    "\n",
    "mice_eeg"
   ]
  },
  {
   "cell_type": "markdown",
   "id": "136210392747eaf9",
   "metadata": {
    "collapsed": false
   },
   "source": [
    " "
   ]
  },
  {
   "cell_type": "code",
   "outputs": [],
   "source": [],
   "metadata": {
    "collapsed": false
   },
   "id": "b6a0705be8efae2d"
  }
 ],
 "metadata": {
  "kernelspec": {
   "display_name": "Python 3 (ipykernel)",
   "language": "python",
   "name": "python3"
  },
  "language_info": {
   "codemirror_mode": {
    "name": "ipython",
    "version": 3
   },
   "file_extension": ".py",
   "mimetype": "text/x-python",
   "name": "python",
   "nbconvert_exporter": "python",
   "pygments_lexer": "ipython3",
   "version": "3.11.8"
  }
 },
 "nbformat": 4,
 "nbformat_minor": 5
}
